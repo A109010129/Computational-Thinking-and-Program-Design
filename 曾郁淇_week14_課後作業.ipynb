{
  "nbformat": 4,
  "nbformat_minor": 0,
  "metadata": {
    "colab": {
      "name": "曾郁淇-week14-課後作業.ipynb",
      "provenance": [],
      "authorship_tag": "ABX9TyP1Ptgd+JxMlZ4ey3GWe4b2",
      "include_colab_link": true
    },
    "kernelspec": {
      "name": "python3",
      "display_name": "Python 3"
    },
    "language_info": {
      "name": "python"
    }
  },
  "cells": [
    {
      "cell_type": "markdown",
      "metadata": {
        "id": "view-in-github",
        "colab_type": "text"
      },
      "source": [
        "<a href=\"https://colab.research.google.com/github/A109010129/Computational-Thinking-and-Program-Design/blob/main/%E6%9B%BE%E9%83%81%E6%B7%87_week14_%E8%AA%B2%E5%BE%8C%E4%BD%9C%E6%A5%AD.ipynb\" target=\"_parent\"><img src=\"https://colab.research.google.com/assets/colab-badge.svg\" alt=\"Open In Colab\"/></a>"
      ]
    },
    {
      "cell_type": "markdown",
      "metadata": {
        "id": "5Y_ubMTxu1-Y"
      },
      "source": [
        "加分題: 棒打老虎雞吃蟲\n",
        "\n",
        "[棒打老虎雞吃蟲]跟[剪⼑⽯頭布]是類似的遊戲，練習⼀下你是否也可以寫出類似的⼩遊戲呢？\n",
        "～寫程式只是把你中文思考的邏輯，⽤更清晰的⽅式轉換成為程式！"
      ]
    },
    {
      "cell_type": "code",
      "metadata": {
        "colab": {
          "base_uri": "https://localhost:8080/"
        },
        "id": "ViTYVzUGu5vp",
        "outputId": "7792ce47-a903-4a58-8af8-cc7abe2ec55b"
      },
      "source": [
        "my_choice = int(input(\"請出拳 [0] 蟲 [1] 雞 [2] 老虎 [3] 棒⼦\"))\n",
        "print(\"你出的拳:\", my_choice)\n",
        "import random\n",
        "com_choice = random.randint(0, 3)\n",
        "print(\"電腦出拳為\", com_choice)\n",
        "# 後⾯勝前⾯，其他平⼿\n",
        "if my_choice == (com_choice + 1) % 4:\n",
        "    print(\"我贏了\")\n",
        "elif com_choice == (my_choice + 1) % 4:\n",
        "    print(\"電腦贏了\")\n",
        "else:\n",
        "    print(\"平⼿\")"
      ],
      "execution_count": 2,
      "outputs": [
        {
          "output_type": "stream",
          "text": [
            "請出拳 [0] 蟲 [1] 雞 [2] 老虎 [3] 棒⼦3\n",
            "你出的拳: 3\n",
            "電腦出拳為 3\n",
            "平⼿\n"
          ],
          "name": "stdout"
        }
      ]
    }
  ]
}