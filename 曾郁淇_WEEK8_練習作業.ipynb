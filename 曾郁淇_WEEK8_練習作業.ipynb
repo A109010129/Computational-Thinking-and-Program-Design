{
  "nbformat": 4,
  "nbformat_minor": 0,
  "metadata": {
    "colab": {
      "name": "曾郁淇-WEEK8-練習作業.ipynb",
      "provenance": [],
      "collapsed_sections": [],
      "authorship_tag": "ABX9TyMFs/TJ1HnBDtxay5YLykH9",
      "include_colab_link": true
    },
    "kernelspec": {
      "name": "python3",
      "display_name": "Python 3"
    },
    "language_info": {
      "name": "python"
    }
  },
  "cells": [
    {
      "cell_type": "markdown",
      "metadata": {
        "id": "view-in-github",
        "colab_type": "text"
      },
      "source": [
        "<a href=\"https://colab.research.google.com/github/A109010129/Computational-Thinking-and-Program-Design/blob/main/%E6%9B%BE%E9%83%81%E6%B7%87_WEEK8_%E7%B7%B4%E7%BF%92%E4%BD%9C%E6%A5%AD.ipynb\" target=\"_parent\"><img src=\"https://colab.research.google.com/assets/colab-badge.svg\" alt=\"Open In Colab\"/></a>"
      ]
    },
    {
      "cell_type": "markdown",
      "metadata": {
        "id": "R2ZZFkLGgVwI"
      },
      "source": [
        "練習12:格式化輸出,明星檔案\n"
      ]
    },
    {
      "cell_type": "code",
      "metadata": {
        "colab": {
          "base_uri": "https://localhost:8080/"
        },
        "id": "gaGPw7tggV5A",
        "outputId": "39779547-194e-47d6-9eec-91257eef26cf"
      },
      "source": [
        "name=\"全圓佑\"\n",
        "birthday=\"1996 年 7 月 17 日\"\n",
        "occupation=\"seventeen成員\"\n",
        "birthplace=\"南韓\"\n",
        "print(\"seventeen成員檔案:\\n 姓名:{}\\n 生日:{}\\n 國籍:{}\\n 職業:{}\".format(name,birthday,birthplace,occupation))"
      ],
      "execution_count": 1,
      "outputs": [
        {
          "output_type": "stream",
          "text": [
            "seventeen成員檔案:\n",
            " 姓名:全圓佑\n",
            " 生日:1996 年 7 月 17 日\n",
            " 國籍:南韓\n",
            " 職業:seventeen成員\n"
          ],
          "name": "stdout"
        }
      ]
    },
    {
      "cell_type": "markdown",
      "metadata": {
        "id": "4eeXZyUtgfQv"
      },
      "source": [
        "將123分鐘轉成2小時3分鐘"
      ]
    },
    {
      "cell_type": "code",
      "metadata": {
        "colab": {
          "base_uri": "https://localhost:8080/"
        },
        "id": "Cw9m8UM6grL3",
        "outputId": "35b568f9-d70c-445a-9e48-8b14dc87ed82"
      },
      "source": [
        "# 將123分鐘轉成2小時3分鐘\n",
        "## 1. 建立變數,輸入資料並儲存\n",
        "time = 123\n",
        "\n",
        "## 2. 方法(一)\n",
        "## 變數轉換為小時數\n",
        "hours = time/60 # 123/60 = 2.05\n",
        "hours1 = int(hours) #取整數為「時」\n",
        "\n",
        "## 取得轉換後的分鐘數\n",
        "minutes = hours1 - hours #2.05-2 = 0.05\n",
        "minutes1 = round(minutes*60) # 0.05*60 = 3,但要四捨五入\n",
        "\n",
        "## 3. 顯示結果\n",
        "print(time, \"is equal to\", hours1, \"Hours and\", minutes1,\n",
        "\"Minutes\")"
      ],
      "execution_count": 2,
      "outputs": [
        {
          "output_type": "stream",
          "text": [
            "123 is equal to 2 Hours and -3 Minutes\n"
          ],
          "name": "stdout"
        }
      ]
    },
    {
      "cell_type": "markdown",
      "metadata": {
        "id": "_JNaKHiOhOwP"
      },
      "source": [
        "範例練習4-5: 賣場買飲料 為了刺激銷售量,賣場通常買一打會比買一罐便宜,假設一罐賣20元,一打賣200元,請設計一 個程式計算買幾罐需花多少錢,若不足一打就個別買。\n"
      ]
    },
    {
      "cell_type": "code",
      "metadata": {
        "colab": {
          "base_uri": "https://localhost:8080/"
        },
        "id": "06o7KKJRhPnX",
        "outputId": "1fe496f7-9027-4b49-e3b8-851e6c453aac"
      },
      "source": [
        "## Total = 200 * 幾打 + 20 * 罐\n",
        "...: ## Input Data\n",
        "...: cans = int(input('請輸入購買飲料的罐數?')) #數字轉文字\n",
        "...: ## Process\n",
        "...: total = (cans//12)*200 + (cans%12)*20\n",
        "...: ## Output\n",
        "...: print('需花費', total)"
      ],
      "execution_count": 3,
      "outputs": [
        {
          "output_type": "stream",
          "text": [
            "請輸入購買飲料的罐數?60\n",
            "需花費 1000\n"
          ],
          "name": "stdout"
        }
      ]
    },
    {
      "cell_type": "markdown",
      "metadata": {
        "id": "bzcFTHbdhe4P"
      },
      "source": [
        "隨堂練習: 請計算NBA 史上最偉大的中鋒之一,「柴油引擎」俠客歐尼爾(Shaquille O’Neal)巔峰時期的BMI。 當時他的身高(216cm)與體重(147kg),而其所對應的身體質量指數 公式為BMI = 公斤 / 公尺平方。\n",
        "\n"
      ]
    },
    {
      "cell_type": "code",
      "metadata": {
        "colab": {
          "base_uri": "https://localhost:8080/"
        },
        "id": "UL7ZUJlZhf6P",
        "outputId": "7f1750c9-201c-4f59-e7a2-5ce64ae2ce2f"
      },
      "source": [
        "player_name = input(\"請輸入球員姓名:\")\n",
        "...: player_height = input(\"請輸入球員身高(cm):\")\n",
        "...: player_weight = input(\"請輸入球員體重(kg):\")\n",
        "...:\n",
        "...: player_height = float(player_height)\n",
        "...: player_weight = float(player_weight)\n",
        "...: player_bmi = player_weight/(player_height*0.01)**2\n",
        "...:\n",
        "...: print(\"{}的身體質量指數為:{:.2f}\".format(player_name, player_bmi))\n",
        "...: print(player_name,'的身體質量指數為', player_bmi )"
      ],
      "execution_count": 4,
      "outputs": [
        {
          "output_type": "stream",
          "text": [
            "請輸入球員姓名:Shaquille O’Nea\n",
            "請輸入球員身高(cm):216\n",
            "請輸入球員體重(kg):147\n",
            "Shaquille O’Nea的身體質量指數為:31.51\n",
            "Shaquille O’Nea 的身體質量指數為 31.507201646090532\n"
          ],
          "name": "stdout"
        }
      ]
    },
    {
      "cell_type": "markdown",
      "metadata": {
        "id": "YPXFGyCKhuen"
      },
      "source": [
        "實例:電影的相關資訊,記得以 # 對程式功能做註解"
      ]
    },
    {
      "cell_type": "code",
      "metadata": {
        "colab": {
          "base_uri": "https://localhost:8080/"
        },
        "id": "htNDjN8Ihu4X",
        "outputId": "2432e236-3e2f-4895-d2d8-65e2b7269e58"
      },
      "source": [
        "## 1. 從IMBD電影資料庫找出要記錄的電影相關資訊\n",
        "## 網址:https://www.imdb.com/title/tt4126476/?ref_=fn_al_tt_1\n",
        "## 相關資訊:電影名稱、放映日期......\n",
        "\n",
        "## 2. 在Python用變數儲存資訊\n",
        "movie_title = \"after\" # 電影名稱\n",
        "release_year = \"2019\" # 放映日期\n",
        "movie_time_min = 105 # 片長\n",
        "movie_rating = 5.3 #評分\n",
        "\n",
        "\n",
        "\n",
        "like = 1 # 你喜不喜歡\n",
        "## 3. 印出電影的相關資訊\n",
        "\n",
        "print(movie_title) # 螢幕列印\n",
        "print(release_year)\n",
        "print(movie_time_min)"
      ],
      "execution_count": 5,
      "outputs": [
        {
          "output_type": "stream",
          "text": [
            "after\n",
            "2019\n",
            "105\n"
          ],
          "name": "stdout"
        }
      ]
    },
    {
      "cell_type": "markdown",
      "metadata": {
        "id": "AegDGCuyhyNQ"
      },
      "source": [
        "練習15:⻑跑健將 梁小星很喜歡運動,每天都堅持跑步5公里,為此他還買了一個手環。觀看手環可以 記錄步數、距離、速度、時間等數據。梁小星想用Python寫一個統計時間的程式, 你可以幫幫他嗎?(06'32, 07'21, 05,51, 07'03, 05'48)"
      ]
    },
    {
      "cell_type": "code",
      "metadata": {
        "colab": {
          "base_uri": "https://localhost:8080/"
        },
        "id": "XjCw6YZbiYMI",
        "outputId": "8e0b2057-5775-4782-a3d0-3b5168d46d6c"
      },
      "source": [
        "sum=0\n",
        "\n",
        "sum=sum+(6*60+32)\n",
        "sum=sum+(7*60+21)\n",
        "sum=sum+(5*60+51)\n",
        "sum=sum+(7*60+3)\n",
        "sum=sum+(5*60+48)\n",
        "\n",
        "print(\"用時\",sum//60,\"分\",sum%60,\"秒\")"
      ],
      "execution_count": 6,
      "outputs": [
        {
          "output_type": "stream",
          "text": [
            "用時 32 分 35 秒\n"
          ],
          "name": "stdout"
        }
      ]
    }
  ]
}