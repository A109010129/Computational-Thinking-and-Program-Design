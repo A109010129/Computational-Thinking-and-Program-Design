{
  "nbformat": 4,
  "nbformat_minor": 0,
  "metadata": {
    "colab": {
      "name": "曾郁淇-week15-課堂練習.ipynb",
      "provenance": [],
      "collapsed_sections": [],
      "authorship_tag": "ABX9TyOV1XRRsVdO4uMsIrTNKgwM",
      "include_colab_link": true
    },
    "kernelspec": {
      "name": "python3",
      "display_name": "Python 3"
    },
    "language_info": {
      "name": "python"
    }
  },
  "cells": [
    {
      "cell_type": "markdown",
      "metadata": {
        "id": "view-in-github",
        "colab_type": "text"
      },
      "source": [
        "<a href=\"https://colab.research.google.com/github/A109010129/Computational-Thinking-and-Program-Design/blob/main/%E6%9B%BE%E9%83%81%E6%B7%87_week15_%E8%AA%B2%E5%A0%82%E7%B7%B4%E7%BF%92.ipynb\" target=\"_parent\"><img src=\"https://colab.research.google.com/assets/colab-badge.svg\" alt=\"Open In Colab\"/></a>"
      ]
    },
    {
      "cell_type": "markdown",
      "metadata": {
        "id": "56Y5d_ANudTA"
      },
      "source": [
        "應⽤練習 4：冒險遊戲 - 過去還是未來\n",
        "我們可以⽤if敘述決定程式碼，創立⼀個冒險遊戲。這個遊戲讓你透過故事，挑選⾃⼰要做什\n",
        "麼，不同的決定將導致不同的結局。為了幫助你開始，可按照使⽤下⾯的程式碼定義遊戲："
      ]
    },
    {
      "cell_type": "code",
      "metadata": {
        "colab": {
          "base_uri": "https://localhost:8080/"
        },
        "id": "czVE0rkkugY7",
        "outputId": "4e566a1b-628a-4c67-ad78-816835a1cde1"
      },
      "source": [
        "name = \"曾郁淇\"\n",
        "\n",
        "## 遊戲說明\n",
        "print(f\"Welcome to {name}'s Choose Your Own Adventure game!\\\n",
        "As you follow the story, you will be presented with choices that decide your fate.\\\n",
        "Take care and choose wisely! Let's begin.\")\n",
        "\n",
        "## 遊戲開始\n",
        "print(f\"You find yourself in a dark room with 2 doors. \\\n",
        "The first door is red, the second is white!\")\n",
        "\n",
        "## 做出你的選擇(雙向巢狀)\n",
        "door_choice = input(\"Which door do you want to choose? \\\n",
        "red = red door or white = white door\")\n",
        "\n",
        "if door_choice == \"red\":\n",
        "    print(\"Great, you walk through the red door and are now in the future! \\\n",
        "    You meet a scientist who gives you a mission of helping him save the world!\")\n",
        "\n",
        "    choose_one = input(\"What do you want to do? \\\n",
        "    1 = Accept or 2 = Decline\")\n",
        "    if choose_one  == \"1\":\n",
        "        print(\"\"\"＿＿＿＿＿SUCCESS＿＿＿＿＿\n",
        "        You will helped the scientist save the world!\n",
        "        In gratitude, the scientist builds a time machine \n",
        "        and sends you home! \"\"\")\n",
        "    else:\n",
        "        print(\"\"\"______GAME OVER______\n",
        "        Too bad! You declined the sientist's offer and \n",
        "        now you are stuck in the future!\"\"\")\n",
        "else:\n",
        "    print(\"Great, you walked through the white door and now you are in the past! \\\n",
        "    You meet a princess who asks you to go on a request.\")\n",
        "\n",
        "    quest_choice = input(\"Do you want to accept her offer and go on the quest, \\\n",
        "    or do you want to stay where you are? 1 = Accept or 2 = Decline\")\n",
        "\n",
        "    if quest_choice == \"1\":\n",
        "        print(\"\"\"＿＿＿＿＿SUCCESS＿＿＿＿＿\n",
        "        Princess thanks you for accepting her offer. You begin the \n",
        "quest.\"\"\")\n",
        "    else:\n",
        "        print(\"\"\"______GAME OVER _____\n",
        "        Well, I guess your story ends here!\"\"\")"
      ],
      "execution_count": 53,
      "outputs": [
        {
          "output_type": "stream",
          "text": [
            "Welcome to 曾郁淇's Choose Your Own Adventure game!As you follow the story, you will be presented with choices that decide your fate.Take care and choose wisely! Let's begin.\n",
            "You find yourself in a dark room with 2 doors. The first door is red, the second is white!\n",
            "Which door do you want to choose? red = red door or white = white doorred \n",
            "Great, you walked through the white door and now you are in the past!     You meet a princess who asks you to go on a request.\n",
            "Do you want to accept her offer and go on the quest,     or do you want to stay where you are? 1 = Accept or 2 = Decline1\n",
            "＿＿＿＿＿SUCCESS＿＿＿＿＿\n",
            "        Princess thanks you for accepting her offer. You begin the \n",
            "quest.\n"
          ],
          "name": "stdout"
        }
      ]
    },
    {
      "cell_type": "markdown",
      "metadata": {
        "id": "94n67VIA7BYB"
      },
      "source": [
        "應⽤練習5：文字冒險旅程(Optional)\n",
        "\n",
        "深處在2D世界荒島的你，正等待救援中！\n",
        "被困在沙溝裡的你，只能選擇向左或向右。\n",
        "選擇向左爬出，經過⼀連串的選擇，最後會有機獲救！！\n",
        "選擇向右爬卻很濕滑，⼀不⼩⼼就會跌入怪異的洞穴中！......\n",
        "\n",
        "遊戲流程：\n",
        "\n",
        "引導使⽤者進入遊戲情境，並提⽰遊戲指令。\n",
        "遊戲可⽤的指令會全以⼤寫字⺟提⽰，輸入非可⽤的指令或是有⼩寫字⺟，則直接跳出\n",
        "遊戲。\n",
        "若有多個指令要分別處理不同分⽀。\n",
        "接下來若有分⽀，應提⽰可輸入的指令。\n",
        "\n",
        "輸入指令後顯⽰對應的訊息。\n",
        "重覆上列步驟，依據輸入資訊，提⽰接下來可輸入的指令，直到完成遊戲。"
      ]
    },
    {
      "cell_type": "code",
      "metadata": {
        "colab": {
          "base_uri": "https://localhost:8080/"
        },
        "id": "-2G6kCyz7JaA",
        "outputId": "d8bb22ff-a6a7-43bb-85ee-902156d032ab"
      },
      "source": [
        "## 解題1: 輸入遊戲情境相關資訊\n",
        "print(\"You are on a deserted island in a 2D world.\")\n",
        "print(\"Try to survive until rescue arrives!\")\n",
        "print(\"Available commands are in CAPITAL letters.\")\n",
        "print(\"Any other command exits the program\")\n",
        "print(\"First LOOK around...\")\n",
        "\n",
        "## 解題2: 先看看周圍，只有兩個指令的冒險旅程\n",
        "## 輸入指令指派給變數do - LOOK\n",
        "do = input(\":: \")\n",
        "\n",
        "## 若輸入LOOK後提示後續指令\n",
        "if do == \"LOOK\":\n",
        "    print(\"You are stuck in a sand ditch.\")\n",
        "    print(\"Crawl out LEFT or RIGHT.\")\n",
        "\n",
        "    ## 輸入分支指令I - LEFT/RIGHT\n",
        "    do = input(\":: \")\n",
        "    if do == \"LEFT\":\n",
        "        print(\"You see a STARFISH and a CRAB on the sand.\")\n",
        "        print(\"And you're hungry! Which do you eat?\")\n",
        "        ## 輸入指令指派給變數do\n",
        "        do = input(\":: \") # 要吃那個 STARFISH/CRAB\n",
        "        if do == \"STARFISH\":\n",
        "            print(\"Oh no! You immediately don't feel well.\")\n",
        "            print(\"You do not survive :(\")\n",
        "        elif do == \"CRAB\":\n",
        "            print(\"Raw crab should be fine, right? YES or NO.\")\n",
        "            ## 輸入指令指派給變數do\n",
        "            do = input(\":: \") # 要吃生螃蟹嗎？ YES/NO\n",
        "            if do == \"YES\":\n",
        "                print(\"Ok, You eat it raw. Fingers crossed.\")\n",
        "                print(\"Food in your belly helps you see a TREE.\")\n",
        "                ## 輸入指令指派給變數do\n",
        "                do = input(\":: \") #看到一棵樹 TREE\n",
        "                if do == \"TREE\":\n",
        "                    print(\"It's a coconut tree! And you're thirsty!\")\n",
        "                    print(\"Do you drink the coconut water? YES or NO.\")\n",
        "                    ## 輸入指令指派給變數do\n",
        "                    do = input(\":: \")# 喝椰子水嗎？YES/NO\n",
        "                    if do == \"YES\":\n",
        "                        print(\"Oh boy. Coconut water and rawcrab don't mix.\")\n",
        "                        print(\"You do not survive :(\")\n",
        "                    elif do == \"NO\":\n",
        "                        print(\"Good choice.\")\n",
        "                        print(\"Look! It's a rescue plane! You made it! \\o/\")\n",
        "            elif do == \"NO\":\n",
        "                print(\"Well, there's nothing else left to eat.\")\n",
        "                print(\"You do not survive :(\")\n",
        "    elif do == \"RIGHT\":\n",
        "         print(\"No can do. That side is   very slippery.\")\n",
        "         print(\"You fall very far into some weird cavern.\")\n",
        "         print(\"You do not survive :(\")          \n",
        "else:\n",
        "    print(\"You can only do actions shown in capital letters.\")\n",
        "    print(\"Try again!\")\n",
        "  \n"
      ],
      "execution_count": 62,
      "outputs": [
        {
          "output_type": "stream",
          "text": [
            "You are on a deserted island in a 2D world.\n",
            "Try to survive until rescue arrives!\n",
            "Available commands are in CAPITAL letters.\n",
            "Any other command exits the program\n",
            "First LOOK around...\n",
            ":: look\n",
            "You can only do actions shown in capital letters.\n",
            "Try again!\n"
          ],
          "name": "stdout"
        }
      ]
    }
  ]
}