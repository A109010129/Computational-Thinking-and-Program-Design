{
  "nbformat": 4,
  "nbformat_minor": 0,
  "metadata": {
    "colab": {
      "name": "曾郁淇-week14-隨堂練習.ipynb",
      "provenance": [],
      "collapsed_sections": [],
      "authorship_tag": "ABX9TyNkH4RFipnXeBy2iqcRuEzS",
      "include_colab_link": true
    },
    "kernelspec": {
      "name": "python3",
      "display_name": "Python 3"
    },
    "language_info": {
      "name": "python"
    }
  },
  "cells": [
    {
      "cell_type": "markdown",
      "metadata": {
        "id": "view-in-github",
        "colab_type": "text"
      },
      "source": [
        "<a href=\"https://colab.research.google.com/github/A109010129/Computational-Thinking-and-Program-Design/blob/main/%E6%9B%BE%E9%83%81%E6%B7%87_week14_%E9%9A%A8%E5%A0%82%E7%B7%B4%E7%BF%92.ipynb\" target=\"_parent\"><img src=\"https://colab.research.google.com/assets/colab-badge.svg\" alt=\"Open In Colab\"/></a>"
      ]
    },
    {
      "cell_type": "markdown",
      "metadata": {
        "id": "IRO6WbG43qKm"
      },
      "source": [
        "\n",
        "\n",
        "應⽤練習1：電影評價\n",
        "請輸入電影名稱與評等，分別⽤單向、雙向與多向選擇來寫程式，幫助⼈們決定是否去看電影。\n"
      ]
    },
    {
      "cell_type": "code",
      "metadata": {
        "colab": {
          "base_uri": "https://localhost:8080/"
        },
        "id": "45VbG-_83qsc",
        "outputId": "4ee378f3-468f-4d0a-c749-2e6c61ac3699"
      },
      "source": [
        "movie_title = input('請輸入電影的名稱:')\n",
        "movie_rating = float(input('請輸入電影的評等:'))\n",
        "\n",
        "if movie_rating > 7:\n",
        "    print(f\"去電影院看{movie_title}\")\n",
        "elif movie_rating > 6:\n",
        "    print(f\"在家裡看{movie_title}\")\n",
        "else:\n",
        "    print(f\"不要看{movie_title}\")"
      ],
      "execution_count": 1,
      "outputs": [
        {
          "output_type": "stream",
          "text": [
            "請輸入電影的名稱:after\n",
            "請輸入電影的評等:8\n",
            "去電影院看after\n"
          ],
          "name": "stdout"
        }
      ]
    },
    {
      "cell_type": "markdown",
      "metadata": {
        "id": "I2VyKrLX5SXk"
      },
      "source": [
        "應⽤練習 2：依照⾝份證字號，排隊領⼝罩\n",
        "請輸入⾝份證字號的最號⼀碼，若奇數則星期⼀三五領⼝罩，若偶數則星期⼆四六領⼝罩。\n",
        "請⽤單向、雙向選擇撰寫程式。"
      ]
    },
    {
      "cell_type": "code",
      "metadata": {
        "colab": {
          "base_uri": "https://localhost:8080/"
        },
        "id": "3wCsq16z5dfC",
        "outputId": "2ba1c688-c1fd-484b-ba18-cc6d9fe67277"
      },
      "source": [
        "user_int = input(\"請輸入一個正整數：\")\n",
        "user_int = int(user_int)\n",
        "\n",
        "if user_int % 2 == 0:\n",
        "    ans = \"偶數，請星期二四六日領口罩\"\n",
        "else:\n",
        "    ans = \"奇數，請星期一三五日領口罩\"\n",
        "print(ans)"
      ],
      "execution_count": 2,
      "outputs": [
        {
          "output_type": "stream",
          "text": [
            "請輸入一個正整數：9\n",
            "奇數，請星期一三五日領口罩\n"
          ],
          "name": "stdout"
        }
      ]
    },
    {
      "cell_type": "markdown",
      "metadata": {
        "id": "2naMm7N-6BCD"
      },
      "source": [
        "應⽤練習3: 剪⼑⽯頭布"
      ]
    },
    {
      "cell_type": "code",
      "metadata": {
        "colab": {
          "base_uri": "https://localhost:8080/"
        },
        "id": "3Dv8rFbr6Bcy",
        "outputId": "5cfdb8b2-4e55-455c-8278-eae7e14c09ca"
      },
      "source": [
        "my = int(input(\"請出拳 [0] 剪刀 [1] 石頭 [2] 布\"))\n",
        "print(\"我出拳為\", my)\n",
        "\n",
        "import random # 載入random模組\n",
        "computer = random.randint(0, 2) # 使用random模組中的函數randint()\n",
        "print(\"電腦出拳為\", computer)\n",
        "\n",
        "if my == 0:\n",
        "    if computer == 0:\n",
        "        print('平手')\n",
        "    elif computer == 1:\n",
        "        print('電腦獲勝')\n",
        "    else:\n",
        "        print('玩家獲勝')\n",
        "elif my == 1:\n",
        "    if computer == 0:\n",
        "        print('玩家獲勝')\n",
        "    elif computer == 1:\n",
        "        print('平手')\n",
        "    else:\n",
        "        print('電腦獲勝')\n",
        "elif my == 2:\n",
        "    if computer == 0:\n",
        "        print('電腦獲勝')\n",
        "    elif computer == 1:\n",
        "        print('玩家獲勝')\n",
        "    else:\n",
        "        print('平手')"
      ],
      "execution_count": 13,
      "outputs": [
        {
          "output_type": "stream",
          "text": [
            "請出拳 [0] 剪刀 [1] 石頭 [2] 布2\n",
            "我出拳為 2\n",
            "電腦出拳為 1\n",
            "玩家獲勝\n"
          ],
          "name": "stdout"
        }
      ]
    }
  ]
}