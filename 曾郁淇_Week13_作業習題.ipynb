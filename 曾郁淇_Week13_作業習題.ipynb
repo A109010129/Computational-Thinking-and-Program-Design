{
  "nbformat": 4,
  "nbformat_minor": 0,
  "metadata": {
    "kernelspec": {
      "display_name": "Python 3",
      "language": "python",
      "name": "python3"
    },
    "language_info": {
      "codemirror_mode": {
        "name": "ipython",
        "version": 3
      },
      "file_extension": ".py",
      "mimetype": "text/x-python",
      "name": "python",
      "nbconvert_exporter": "python",
      "pygments_lexer": "ipython3",
      "version": "3.8.5"
    },
    "colab": {
      "name": "曾郁淇 - Week13 - 作業習題.ipynb",
      "provenance": [],
      "collapsed_sections": [],
      "include_colab_link": true
    }
  },
  "cells": [
    {
      "cell_type": "markdown",
      "metadata": {
        "id": "view-in-github",
        "colab_type": "text"
      },
      "source": [
        "<a href=\"https://colab.research.google.com/github/A109010129/Computational-Thinking-and-Program-Design/blob/main/%E6%9B%BE%E9%83%81%E6%B7%87_Week13_%E4%BD%9C%E6%A5%AD%E7%BF%92%E9%A1%8C.ipynb\" target=\"_parent\"><img src=\"https://colab.research.google.com/assets/colab-badge.svg\" alt=\"Open In Colab\"/></a>"
      ]
    },
    {
      "cell_type": "markdown",
      "metadata": {
        "id": "oz92OnYgsypI"
      },
      "source": [
        "**隨堂練習1： BMI 計算**\n",
        "\n",
        "請寫一個程式讓使用者輸入身高與體重，顯示BMI 值與肥胖程度。 BMI 等於體重（KG）除以身高（M）的平方，而BMI 與肥胖分類標準如下：\n",
        "\n",
        "若BMI 值小於18，則顯示「體重過輕」，否則若BMI 值小於24，則顯示「體重正常」，若BMI 值小於27，則顯示「體重過重」，否則顯示「體重肥胖」。"
      ]
    },
    {
      "cell_type": "code",
      "metadata": {
        "id": "Spfzf0MrsypK"
      },
      "source": [
        ""
      ],
      "execution_count": null,
      "outputs": []
    },
    {
      "cell_type": "markdown",
      "metadata": {
        "id": "UVDysrl6sypL"
      },
      "source": [
        "**隨堂練習2： 三一律(單向選擇、雙向與巢狀選擇、多向選擇)**\n",
        "\n",
        "請輸入一個數，然後判斷這個數是正數、是負數或者是零。"
      ]
    },
    {
      "cell_type": "code",
      "metadata": {
        "id": "iLz7j_QMsypM"
      },
      "source": [
        ""
      ],
      "execution_count": null,
      "outputs": []
    },
    {
      "cell_type": "markdown",
      "metadata": {
        "id": "TJEJgm6dsypN"
      },
      "source": [
        "**練習5   體溫與發燒**\n",
        "\n",
        "設計程式根據體溫判斷是否發燒，由使用者輸入體溫，程式判斷是否發燒，假設體溫小於36度，顯示「體溫過低」，體溫大於等於36度小於38度，顯示「體溫正常」，否則若體溫大於等於38度小於39度，顯示「體溫有點燒」，否則體溫大於等於39度，顯示「體溫很燒」。\n",
        "\n",
        "輸入體溫「36.5」，輸出為「體溫正常」。\n",
        "\n",
        "～程式執行結果如下。\n",
        "\n",
        "請輸入體溫？36.5\n",
        "\n",
        "體溫正常"
      ]
    },
    {
      "cell_type": "code",
      "metadata": {
        "id": "HeWD5yGgsypO",
        "colab": {
          "base_uri": "https://localhost:8080/"
        },
        "outputId": "52c4b6a7-fd7d-4edb-cd0d-2446b1dce6f7"
      },
      "source": [
        "temp = float(input(\"請輸入體溫?\"))\n",
        "if(temp < 36):\n",
        "    print(\"體溫過低\")\n",
        "elif(temp < 38):\n",
        "    print(\"體溫正常\")\n",
        "elif(temp < 39):\n",
        "    print(\"體溫有點燒\")\n",
        "else:\n",
        "    print(\"體溫很燒\")"
      ],
      "execution_count": 1,
      "outputs": [
        {
          "output_type": "stream",
          "text": [
            "請輸入體溫?36.5\n",
            "體溫正常\n"
          ],
          "name": "stdout"
        }
      ]
    },
    {
      "cell_type": "markdown",
      "metadata": {
        "id": "XGvhWIGQsypO"
      },
      "source": [
        "**練習6  閏年判斷**\n",
        "\n",
        "設計程式允許輸入西元幾年，請求出該年是否是閏年，閏年表示該年多一天，若為4的倍數稱做閏年，但若為100的倍數就不為閏年，且若為400倍數又是閏年。(四年一潤、百年不潤、四百年再潤)\n",
        "\n",
        "輸入年份「2012」，輸出為「2012是閏年」。\n",
        "\n",
        "～程式執行結果如下。\n",
        "\n",
        "請輸入年份？2012\n",
        "\n",
        "2012 是閏年"
      ]
    },
    {
      "cell_type": "code",
      "metadata": {
        "id": "hXs8c_OmsypP",
        "colab": {
          "base_uri": "https://localhost:8080/"
        },
        "outputId": "54244de7-d8f0-4368-bc17-11f676acd380"
      },
      "source": [
        "year = int(input(\"請輸入年分?\"))\n",
        "\n",
        "if((year % 400) == 0):\n",
        "    print(year,\"是閏年\")\n",
        "elif ((year % 100) == 0):\n",
        "    print(year,\"不是閏年\")\n",
        "elif ((year % 4) == 0):\n",
        "    print(year,\"是閏年\")\n",
        "else:\n",
        "    print(year,\"不是閏年\")"
      ],
      "execution_count": 2,
      "outputs": [
        {
          "output_type": "stream",
          "text": [
            "請輸入年分?2018\n",
            "2018 不是閏年\n"
          ],
          "name": "stdout"
        }
      ]
    },
    {
      "cell_type": "markdown",
      "metadata": {
        "id": "MLtUJ2IwsypQ"
      },
      "source": [
        "**練習12：計程車計費**\n",
        "\n",
        "某城市計程車計費3公里以內6元，超過3公里不足10公里、每公里1.8元，超過10公里則超過部分加收50%。此外停車等候每3分鐘收1元，請用Python寫出車費是多少。"
      ]
    },
    {
      "cell_type": "code",
      "metadata": {
        "id": "5ZbzcjvtsypQ",
        "colab": {
          "base_uri": "https://localhost:8080/"
        },
        "outputId": "25a776d0-2686-429a-db8e-9daf2d4761a5"
      },
      "source": [
        "length = int(input(\"請輸入距離: \"))\n",
        "time = int(input(\"請輸入時間: \"))\n",
        "\n",
        "if length >= 10:\n",
        "    feight = 6 + (10 - 3) *1.8 + (length - 10) * 1.8 * 1.5\n",
        "else:\n",
        "    if length >= 3:\n",
        "      feight = 6 + (length - 3) *1.8 \n",
        "    else:\n",
        "        feight = 6\n",
        "feight = feight + (time / 3) * 1\n",
        "print(\"計程車費是\",feight)"
      ],
      "execution_count": 4,
      "outputs": [
        {
          "output_type": "stream",
          "text": [
            "請輸入距離: 15\n",
            "請輸入時間: 10\n",
            "計程車費是 35.43333333333334\n"
          ],
          "name": "stdout"
        }
      ]
    },
    {
      "cell_type": "code",
      "metadata": {
        "id": "hCbY2Dj1sypR"
      },
      "source": [
        ""
      ],
      "execution_count": null,
      "outputs": []
    }
  ]
}