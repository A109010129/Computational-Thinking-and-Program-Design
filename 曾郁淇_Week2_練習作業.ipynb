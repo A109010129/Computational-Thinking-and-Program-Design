{
  "nbformat": 4,
  "nbformat_minor": 0,
  "metadata": {
    "colab": {
      "name": "曾郁淇-Week2-練習作業.ipynb",
      "provenance": [],
      "collapsed_sections": [],
      "authorship_tag": "ABX9TyNBKmiBZrsOyQt15VbHNtcR",
      "include_colab_link": true
    },
    "kernelspec": {
      "name": "python3",
      "display_name": "Python 3"
    }
  },
  "cells": [
    {
      "cell_type": "markdown",
      "metadata": {
        "id": "view-in-github",
        "colab_type": "text"
      },
      "source": [
        "<a href=\"https://colab.research.google.com/github/A109010129/Computational-Thinking-and-Program-Design/blob/main/%E6%9B%BE%E9%83%81%E6%B7%87_Week2_%E7%B7%B4%E7%BF%92%E4%BD%9C%E6%A5%AD.ipynb\" target=\"_parent\"><img src=\"https://colab.research.google.com/assets/colab-badge.svg\" alt=\"Open In Colab\"/></a>"
      ]
    },
    {
      "cell_type": "code",
      "metadata": {
        "colab": {
          "base_uri": "https://localhost:8080/"
        },
        "id": "60pu-AeLS-0S",
        "outputId": "ee379513-402d-41bf-aab9-0d034dfc405c"
      },
      "source": [
        "print(1+1)"
      ],
      "execution_count": 3,
      "outputs": [
        {
          "output_type": "stream",
          "text": [
            "2\n"
          ],
          "name": "stdout"
        }
      ]
    },
    {
      "cell_type": "code",
      "metadata": {
        "colab": {
          "base_uri": "https://localhost:8080/"
        },
        "id": "vJT0NySPUPeO",
        "outputId": "11c294e1-e1eb-4557-8ad7-f9f97097ca86"
      },
      "source": [
        "print(\"Hello World\")"
      ],
      "execution_count": 2,
      "outputs": [
        {
          "output_type": "stream",
          "text": [
            "Hello World\n"
          ],
          "name": "stdout"
        }
      ]
    },
    {
      "cell_type": "markdown",
      "metadata": {
        "id": "HrVw6ds9YTIh"
      },
      "source": [
        "Google Colab 操作步驟\r\n",
        "Step1:\r\n",
        "Step2:\r\n",
        "Step3:"
      ]
    },
    {
      "cell_type": "markdown",
      "metadata": {
        "id": "zW1VCGLgY90w"
      },
      "source": [
        "回家練習"
      ]
    },
    {
      "cell_type": "code",
      "metadata": {
        "id": "oJNIOOl6ZT2e"
      },
      "source": [
        ""
      ],
      "execution_count": null,
      "outputs": []
    }
  ]
}