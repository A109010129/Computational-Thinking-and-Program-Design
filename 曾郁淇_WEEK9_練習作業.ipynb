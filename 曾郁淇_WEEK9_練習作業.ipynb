{
  "nbformat": 4,
  "nbformat_minor": 0,
  "metadata": {
    "colab": {
      "name": "曾郁淇-WEEK9-練習作業.ipynb",
      "provenance": [],
      "collapsed_sections": [],
      "authorship_tag": "ABX9TyMFEppvQ5txuxTuKQVN5eis",
      "include_colab_link": true
    },
    "kernelspec": {
      "name": "python3",
      "display_name": "Python 3"
    },
    "language_info": {
      "name": "python"
    }
  },
  "cells": [
    {
      "cell_type": "markdown",
      "metadata": {
        "id": "view-in-github",
        "colab_type": "text"
      },
      "source": [
        "<a href=\"https://colab.research.google.com/github/A109010129/Computational-Thinking-and-Program-Design/blob/main/%E6%9B%BE%E9%83%81%E6%B7%87_WEEK9_%E7%B7%B4%E7%BF%92%E4%BD%9C%E6%A5%AD.ipynb\" target=\"_parent\"><img src=\"https://colab.research.google.com/assets/colab-badge.svg\" alt=\"Open In Colab\"/></a>"
      ]
    },
    {
      "cell_type": "markdown",
      "metadata": {
        "id": "jLuaIWR1kO3c"
      },
      "source": [
        "4-2-3. 模式辨識 - 報告分組\n",
        "\n",
        "範例說明:報告分組 因為教學需求,全班40位同學要進行分組報告,每五位同學一組,老師規定依座號順序分組,也 就是1號到5號一組,6號到10號一組,請寫一個程式允許使用者輸入座號,輸出分組的組別。"
      ]
    },
    {
      "cell_type": "code",
      "metadata": {
        "colab": {
          "base_uri": "https://localhost:8080/",
          "height": 131
        },
        "id": "ML4jD1AokPg0",
        "outputId": "7da00dde-5ea1-4696-b5f6-1cf9c06b2815"
      },
      "source": [
        "## 運算思維 - 模式辨識\n",
        "## 方法(一):餘數位置從0開始 + 商數為組數\n",
        "seats = int(input('請輸入座號?')) #文字轉數字\n",
        "groups = (seats - 1)//5 + 1\n",
        "print('組別為', groups)\n",
        "## 方法(二):函式(上限為組別)\n",
        "import math\n",
        "seats = int(input(\"請輸入座號?\"))\n",
        "groups = math.ceil(seats/5)\n",
        "print(\"組別為\",groups)\n",
        "## 方法(三):用餘數為條件分組\n",
        "seats = int(input(\"請輸入座號? \"))\n",
        "if seats%5 == 0:\n",
        "print(\"組別為\", seats//5)\n",
        "else:\n",
        "print(\"組別為\", seats//5 +1)\n"
      ],
      "execution_count": 1,
      "outputs": [
        {
          "output_type": "error",
          "ename": "IndentationError",
          "evalue": "ignored",
          "traceback": [
            "\u001b[0;36m  File \u001b[0;32m\"<ipython-input-1-f61ca892257e>\"\u001b[0;36m, line \u001b[0;32m14\u001b[0m\n\u001b[0;31m    print(\"組別為\", seats//5)\u001b[0m\n\u001b[0m        ^\u001b[0m\n\u001b[0;31mIndentationError\u001b[0m\u001b[0;31m:\u001b[0m expected an indented block\n"
          ]
        }
      ]
    }
  ]
}