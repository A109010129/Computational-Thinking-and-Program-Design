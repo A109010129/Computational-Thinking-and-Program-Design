{
  "nbformat": 4,
  "nbformat_minor": 0,
  "metadata": {
    "colab": {
      "name": "曾郁淇-WEEK5-練習作業.ipynb",
      "provenance": [],
      "collapsed_sections": [],
      "authorship_tag": "ABX9TyMub6TwPicgGubcCDBTnK/4",
      "include_colab_link": true
    },
    "kernelspec": {
      "name": "python3",
      "display_name": "Python 3"
    },
    "language_info": {
      "name": "python"
    }
  },
  "cells": [
    {
      "cell_type": "markdown",
      "metadata": {
        "id": "view-in-github",
        "colab_type": "text"
      },
      "source": [
        "<a href=\"https://colab.research.google.com/github/A109010129/Computational-Thinking-and-Program-Design/blob/main/%E6%9B%BE%E9%83%81%E6%B7%87_WEEK5_%E7%B7%B4%E7%BF%92%E4%BD%9C%E6%A5%AD.ipynb\" target=\"_parent\"><img src=\"https://colab.research.google.com/assets/colab-badge.svg\" alt=\"Open In Colab\"/></a>"
      ]
    },
    {
      "cell_type": "markdown",
      "metadata": {
        "id": "R7AFciq-lphG"
      },
      "source": [
        "練習3: 變數賦值，小猴子摘水果\n",
        "\n",
        "有一天，一隻小猴子來到果園裡，牠走道蘋果樹下，看到滿樹的蘋果，就爬上去摘了2個。又看到不滿的地方有一個梨子樹，又大又黃，就丟掉蘋果，爬到梨子樹摘了1個梨子。正準備吃的時候，看到前方又紅又大的桃子樹，就又高高興興地跑到桃樹上，摘了3個桃子。這時傳來小鳥的叫聲，鳥在香蕉樹上，當然就立馬飛奔去摘香蕉，最後吃了6根香蕉。請問這隻猴子摘了多少個水果，手中最後的水果是什麼？請你用Python記錄一下！"
      ]
    },
    {
      "cell_type": "code",
      "metadata": {
        "colab": {
          "base_uri": "https://localhost:8080/"
        },
        "id": "P0mfWPuBlq6E",
        "outputId": "c728ea8e-fd68-4b5d-8f6b-9baa8bf6d4e2"
      },
      "source": [
        "total = 0\n",
        "\n",
        "fruit = \"Apple\"\n",
        "number = 2\n",
        "total = total + number\n",
        "print(\"摘了\",fruit, \"摘了\",number, \"個,總共摘了\", total, \"個水果\")\n",
        "print(f\"摘了{fruit}、摘了{number}個, 總共摘了{total}個水果\")\n",
        "\n",
        "fruit =\"Pear\"\n",
        "number = 1\n",
        "total = total + number\n",
        "print(\"摘了\",fruit, \"摘了\",number, \"個,總共摘了\", total, \"個水果\")\n",
        "print(f\"摘了{fruit}、摘了{number}個, 總共摘了{total}個水果\")\n",
        "\n",
        "fruit =\"Peach\"\n",
        "number = 3\n",
        "total = total + number\n",
        "print(\"摘了\",fruit, \"摘了\",number, \"個,總共摘了\", total, \"個水果\")\n",
        "print(f\"摘了{fruit}、摘了{number}個, 總共摘了{total}個水果\")\n",
        "\n",
        "fruit =\"Banana\"\n",
        "number = 6\n",
        "total = total + number\n",
        "print(\"摘了\",fruit, \"摘了\",number, \"個,總共摘了\", total, \"個水果\")\n",
        "print(f\"摘了{fruit}、摘了{number}個, 總共摘了{total}個水果\")"
      ],
      "execution_count": 1,
      "outputs": [
        {
          "output_type": "stream",
          "text": [
            "摘了 Apple 摘了 2 個,總共摘了 2 個水果\n",
            "摘了Apple、摘了2個, 總共摘了2個水果\n",
            "摘了 Pear 摘了 1 個,總共摘了 3 個水果\n",
            "摘了Pear、摘了1個, 總共摘了3個水果\n",
            "摘了 Peach 摘了 3 個,總共摘了 6 個水果\n",
            "摘了Peach、摘了3個, 總共摘了6個水果\n",
            "摘了 Banana 摘了 6 個,總共摘了 12 個水果\n",
            "摘了Banana、摘了6個, 總共摘了12個水果\n"
          ],
          "name": "stdout"
        }
      ]
    },
    {
      "cell_type": "markdown",
      "metadata": {
        "id": "UlDI3t3glveT"
      },
      "source": [
        "練習4: 是真的嗎？網路資料不輕信\n",
        "\n",
        "宣宣這學期開始學習Python，老師和學長姊都說多上網查找相關資料，多多麻煩Google大神找答案，是提升自學能力最好的方法。於是她看到一段與上課有關但老師沒有教的內容，宣宣想看看下面的內容正不正確，你能幫助她嗎？(1)在Python中，用1表示True，用0和其他非1的整數表示False。(2)在Python中，所有物件都可以進行布林測試。"
      ]
    },
    {
      "cell_type": "code",
      "metadata": {
        "colab": {
          "base_uri": "https://localhost:8080/"
        },
        "id": "meANJRzKlyPD",
        "outputId": "efb1739d-f94f-4b72-c45e-14449565076b"
      },
      "source": [
        "#在Python中，用1表示True，用0和其他非1的整數表示False。\n",
        "bool(1)\n",
        "bool(0)\n",
        "bool(100)\n",
        "#在Python中，所有物件都可以進行布林測試。\n",
        "bool(8.7)\n",
        "bool(\"87\")\n",
        "bool(True)"
      ],
      "execution_count": 2,
      "outputs": [
        {
          "output_type": "execute_result",
          "data": {
            "text/plain": [
              "True"
            ]
          },
          "metadata": {
            "tags": []
          },
          "execution_count": 2
        }
      ]
    },
    {
      "cell_type": "markdown",
      "metadata": {
        "id": "8eI0y5lXl6bT"
      },
      "source": [
        "隨堂練習2: 引用引文\n",
        "\n",
        "在網路上搜尋名言，或者使用你自己的名言。它可以是激勵你的文字、電影中一段有趣的台詞，甚至是家人說的話。"
      ]
    },
    {
      "cell_type": "code",
      "metadata": {
        "colab": {
          "base_uri": "https://localhost:8080/"
        },
        "id": "eWC3xsINl637",
        "outputId": "7e0312c4-5f41-4abe-c1ec-bdde3b08b89c"
      },
      "source": [
        "print(\"試煉的盡頭 總會綻放\")"
      ],
      "execution_count": 3,
      "outputs": [
        {
          "output_type": "stream",
          "text": [
            "試煉的盡頭 總會綻放\n"
          ],
          "name": "stdout"
        }
      ]
    }
  ]
}