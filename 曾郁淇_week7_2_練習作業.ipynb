{
  "nbformat": 4,
  "nbformat_minor": 0,
  "metadata": {
    "colab": {
      "name": "曾郁淇-week7-2-練習作業.ipynb",
      "provenance": [],
      "collapsed_sections": [],
      "authorship_tag": "ABX9TyNw3mJKDhNRyqzV/yhDqSzT",
      "include_colab_link": true
    },
    "kernelspec": {
      "name": "python3",
      "display_name": "Python 3"
    },
    "language_info": {
      "name": "python"
    }
  },
  "cells": [
    {
      "cell_type": "markdown",
      "metadata": {
        "id": "view-in-github",
        "colab_type": "text"
      },
      "source": [
        "<a href=\"https://colab.research.google.com/github/A109010129/Computational-Thinking-and-Program-Design/blob/main/%E6%9B%BE%E9%83%81%E6%B7%87_week7_2_%E7%B7%B4%E7%BF%92%E4%BD%9C%E6%A5%AD.ipynb\" target=\"_parent\"><img src=\"https://colab.research.google.com/assets/colab-badge.svg\" alt=\"Open In Colab\"/></a>"
      ]
    },
    {
      "cell_type": "code",
      "metadata": {
        "colab": {
          "base_uri": "https://localhost:8080/"
        },
        "id": "8bpFSgHfi9IV",
        "outputId": "e52923a0-e05b-4957-ee29-89cc54fef616"
      },
      "source": [
        "## Input\n",
        "PI = 3.14\n",
        "r1 = input(\"Enter radius 1:\")\n",
        "r2 = input(\"Enter radius 2:\")\n",
        "r1 = float(r1)\n",
        "r2 = float(r2)\n",
        "\n",
        "## Process\n",
        "area1 = PI * r1 * r1\n",
        "area2 = PI * r2 * r2\n",
        "area = area1 - area2\n",
        "\n",
        "## Output\n",
        "print(f\"得出來的答案為{area}\")"
      ],
      "execution_count": 8,
      "outputs": [
        {
          "output_type": "stream",
          "text": [
            "Enter radius 1:8\n",
            "Enter radius 2:6\n",
            "得出來的答案為87.92000000000002\n"
          ],
          "name": "stdout"
        }
      ]
    },
    {
      "cell_type": "code",
      "metadata": {
        "colab": {
          "base_uri": "https://localhost:8080/"
        },
        "id": "GadSUGxene0S",
        "outputId": "e168e6f5-0385-4293-f3b6-57e9611e8b07"
      },
      "source": [
        " ## Input\n",
        "c = float(input('請輸入攝氏溫度？'))\n",
        "\n",
        " ## Process\n",
        " f = c * 9/5 + 32\n",
        "\n",
        " ## Output\n",
        " print('華氏溫度為', f)"
      ],
      "execution_count": 10,
      "outputs": [
        {
          "output_type": "stream",
          "text": [
            "請輸入攝氏溫度？23\n",
            "華氏溫度為 73.4\n"
          ],
          "name": "stdout"
        }
      ]
    }
  ]
}