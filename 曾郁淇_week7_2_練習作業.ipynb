{
  "nbformat": 4,
  "nbformat_minor": 0,
  "metadata": {
    "colab": {
      "name": "曾郁淇-week7-2-練習作業.ipynb",
      "provenance": [],
      "collapsed_sections": [],
      "authorship_tag": "ABX9TyNadsBLsDMZovV2Wel/OM5e",
      "include_colab_link": true
    },
    "kernelspec": {
      "name": "python3",
      "display_name": "Python 3"
    },
    "language_info": {
      "name": "python"
    }
  },
  "cells": [
    {
      "cell_type": "markdown",
      "metadata": {
        "id": "view-in-github",
        "colab_type": "text"
      },
      "source": [
        "<a href=\"https://colab.research.google.com/github/A109010129/Computational-Thinking-and-Program-Design/blob/main/%E6%9B%BE%E9%83%81%E6%B7%87_week7_2_%E7%B7%B4%E7%BF%92%E4%BD%9C%E6%A5%AD.ipynb\" target=\"_parent\"><img src=\"https://colab.research.google.com/assets/colab-badge.svg\" alt=\"Open In Colab\"/></a>"
      ]
    },
    {
      "cell_type": "code",
      "metadata": {
        "colab": {
          "base_uri": "https://localhost:8080/"
        },
        "id": "8bpFSgHfi9IV",
        "outputId": "e52923a0-e05b-4957-ee29-89cc54fef616"
      },
      "source": [
        "## Input\n",
        "PI = 3.14\n",
        "r1 = input(\"Enter radius 1:\")\n",
        "r2 = input(\"Enter radius 2:\")\n",
        "r1 = float(r1)\n",
        "r2 = float(r2)\n",
        "\n",
        "## Process\n",
        "area1 = PI * r1 * r1\n",
        "area2 = PI * r2 * r2\n",
        "area = area1 - area2\n",
        "\n",
        "## Output\n",
        "print(f\"得出來的答案為{area}\")"
      ],
      "execution_count": null,
      "outputs": [
        {
          "output_type": "stream",
          "text": [
            "Enter radius 1:8\n",
            "Enter radius 2:6\n",
            "得出來的答案為87.92000000000002\n"
          ],
          "name": "stdout"
        }
      ]
    },
    {
      "cell_type": "code",
      "metadata": {
        "colab": {
          "base_uri": "https://localhost:8080/"
        },
        "id": "GadSUGxene0S",
        "outputId": "e168e6f5-0385-4293-f3b6-57e9611e8b07"
      },
      "source": [
        " ## Input\n",
        "c = float(input('請輸入攝氏溫度？'))\n",
        "\n",
        " ## Process\n",
        " f = c * 9/5 + 32\n",
        "\n",
        " ## Output\n",
        " print('華氏溫度為', f)"
      ],
      "execution_count": null,
      "outputs": [
        {
          "output_type": "stream",
          "text": [
            "請輸入攝氏溫度？23\n",
            "華氏溫度為 73.4\n"
          ],
          "name": "stdout"
        }
      ]
    },
    {
      "cell_type": "markdown",
      "metadata": {
        "id": "h5sfI1nvzeTL"
      },
      "source": [
        "練習5:整理圖書\n",
        "\n",
        "輸入兩個正整數a = 13和b = 11,將換a和b的值,即a = 11和b = 13。\n",
        "~梁小星在家中整理書櫃,原來第一層放11本爸爸的書,第二層放13本自己的書,\n",
        "他想將兩層圖書的位置對調,請問該如何做呢?"
      ]
    },
    {
      "cell_type": "code",
      "metadata": {
        "colab": {
          "base_uri": "https://localhost:8080/"
        },
        "id": "p3d2OB6azkTh",
        "outputId": "527cb338-d03d-48e8-990e-438e60d62c2b"
      },
      "source": [
        "a=13\n",
        "b=11\n",
        "c=a\n",
        "a=b\n",
        "b=c\n",
        "print(a)\n",
        "print(b)"
      ],
      "execution_count": null,
      "outputs": [
        {
          "output_type": "stream",
          "text": [
            "11\n",
            "13\n"
          ],
          "name": "stdout"
        }
      ]
    },
    {
      "cell_type": "markdown",
      "metadata": {
        "id": "dggGRkPE2yi8"
      },
      "source": [
        "練習11:分糖果練習\n",
        "\n",
        "在糖果屋中,有6位小朋友在玩分糖果遊戲。這6位小朋友的編號為1, 2, 3, 4, 5, 6,\n",
        "並按照自己的編號坐在一張圓桌旁。它們身上都有不同的糖果,從1號小朋友開始,\n",
        "將自己的糖果均分成3份,如果有多的就立刻先吃掉,然後自己留1份,其餘2份給身\n",
        "邊的小朋友。接著2號、3號、4號、5號、6號同學這樣做。問一輪後,每位小朋友手\n",
        "上有多少糖果。"
      ]
    },
    {
      "cell_type": "code",
      "metadata": {
        "id": "3yKjs_Ft3W_2",
        "colab": {
          "base_uri": "https://localhost:8080/"
        },
        "outputId": "f8c6a994-a881-44ea-f329-bed42b55a5bb"
      },
      "source": [
        "## Input\n",
        "a,b,c,d,e,f = eval(input(\"Enter a number\"))\n",
        "\n",
        "## Process\n",
        "a = a//3 ; b = b+a ; f = f+a\n",
        "b = b//3 ; a = a+b ; c = c+b\n",
        "c = c//3 ; b = b+c ; d = d+c\n",
        "d = d//3 ; c = c+d ; e = e+d \n",
        "e = e//3 ; d = d+e ; f = f+e\n",
        "f = f//3 ; e = e+f ; a = a+f\n",
        "## Output\n",
        "print(f\"a = {a} b ={b} c={c} d={d} e={e} f={f}\")"
      ],
      "execution_count": 7,
      "outputs": [
        {
          "output_type": "stream",
          "text": [
            "Enter a number3,3,3,3,3,3\n",
            "a = 3 b =2 c=2 d=2 e=2 f=1\n"
          ],
          "name": "stdout"
        }
      ]
    }
  ]
}