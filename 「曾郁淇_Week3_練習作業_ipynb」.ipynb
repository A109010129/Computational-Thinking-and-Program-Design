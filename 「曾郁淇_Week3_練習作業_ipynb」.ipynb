{
  "nbformat": 4,
  "nbformat_minor": 0,
  "metadata": {
    "colab": {
      "name": "「曾郁淇-Week3-練習作業.ipynb」",
      "provenance": [],
      "collapsed_sections": [],
      "authorship_tag": "ABX9TyOVzfkRCIXgXafb+7N/mopA",
      "include_colab_link": true
    },
    "kernelspec": {
      "name": "python3",
      "display_name": "Python 3"
    }
  },
  "cells": [
    {
      "cell_type": "markdown",
      "metadata": {
        "id": "view-in-github",
        "colab_type": "text"
      },
      "source": [
        "<a href=\"https://colab.research.google.com/github/A109010129/Computational-Thinking-and-Program-Design/blob/main/%E3%80%8C%E6%9B%BE%E9%83%81%E6%B7%87_Week3_%E7%B7%B4%E7%BF%92%E4%BD%9C%E6%A5%AD_ipynb%E3%80%8D.ipynb\" target=\"_parent\"><img src=\"https://colab.research.google.com/assets/colab-badge.svg\" alt=\"Open In Colab\"/></a>"
      ]
    },
    {
      "cell_type": "markdown",
      "metadata": {
        "id": "ZsJw8DxDNOal"
      },
      "source": [
        "隨堂練習\r\n"
      ]
    },
    {
      "cell_type": "code",
      "metadata": {
        "colab": {
          "base_uri": "https://localhost:8080/"
        },
        "id": "Y_a_3ZdzYk1E",
        "outputId": "21a71cb4-8501-48ef-e54c-8484e91bd1df"
      },
      "source": [
        "print(1+1)"
      ],
      "execution_count": 4,
      "outputs": [
        {
          "output_type": "stream",
          "text": [
            "2\n"
          ],
          "name": "stdout"
        }
      ]
    },
    {
      "cell_type": "markdown",
      "metadata": {
        "id": "wooyV2saNWe-"
      },
      "source": [
        "課後練習\r\n",
        "\r\n",
        "\r\n",
        "課後練習則為從一則新聞報導，提出你對新聞系（OO系）學生為什麼要學「運算思維與程式設計」的見解。（告訴我新聞連結，以及你的觀點即可。）"
      ]
    },
    {
      "cell_type": "markdown",
      "metadata": {
        "id": "Sx9GVwmNWyEH"
      },
      "source": [
        "我覺得新聞系學生必須要學程式設計的原因很簡單，就是多一個機會，對於未來工作需求，可以多一項技能，跟學習如果思考，遇到事情時可以更清晰更有效率的去思考，去找出解決方法。"
      ]
    },
    {
      "cell_type": "markdown",
      "metadata": {
        "id": "ImNN5ufkX4p-"
      },
      "source": [
        "新聞連結：https://www.managertoday.com.tw/articles/view/55799"
      ]
    }
  ]
}